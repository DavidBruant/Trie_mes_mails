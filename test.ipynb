{
 "cells": [
  {
   "cell_type": "code",
   "execution_count": 14,
   "metadata": {},
   "outputs": [],
   "source": [
    "import pytest\n",
    "#Boîte A : Tous les titres contiennent le mot \"notification\" (différents émetteurs/destinataires)\n",
    "#Boîte B : Tous les emails venant de l'émetteur blabla@gmail.com (différents titres/destinataires)"
   ]
  },
  {
   "cell_type": "code",
   "execution_count": 35,
   "metadata": {},
   "outputs": [],
   "source": [
    "class Email_classifier():\n",
    "    \n",
    "    def classify(self, email):\n",
    "        return 'boite B'\n",
    "\n",
    "    def learn(self, dict):\n",
    "        return \"\"\n",
    "\n",
    "def test_classify():\n",
    "    email_class = Email_classifier()\n",
    "    boiteA = []\n",
    "    boiteB = []\n",
    "    faux_objet_email = {}\n",
    "\n",
    "    faux_objet_email['emetteur'] = 'notif@sncf.com'\n",
    "    faux_objet_email['destinataire'] = 'd@gmail.com'\n",
    "    faux_objet_email['objet'] = 'notification'\n",
    "    boiteA.append(faux_objet_email)\n",
    "\n",
    "    faux_objet_email1 = {}\n",
    "    faux_objet_email1['emetteur'] = 'test@gmail.com'\n",
    "    faux_objet_email1['destinataire'] = 'm@gmail.com'\n",
    "    faux_objet_email1['objet'] = 'notification'\n",
    "    boiteA.append(faux_objet_email1)\n",
    "\n",
    "    faux_objet_email2 = {}\n",
    "    faux_objet_email2['emetteur'] = 'notification@gmail.com'\n",
    "    faux_objet_email2['destinataire'] = 'mar@gmail.com'\n",
    "    faux_objet_email2['objet'] = 'notification'\n",
    "    boiteA.append(faux_objet_email2)\n",
    "\n",
    "    faux_objet_email3 = {}\n",
    "    faux_objet_email3['emetteur'] = 'test@gmail.com'\n",
    "    faux_objet_email3['destinataire'] = 'blabla@gmail.com'\n",
    "    faux_objet_email3['objet'] = 'blablabla chaussure'\n",
    "    boiteB.append(faux_objet_email3)\n",
    "\n",
    "    faux_objet_email4 = {}\n",
    "    faux_objet_email4['emetteur'] = 'testonslesemails@gmail.com'\n",
    "    faux_objet_email4['destinataire'] = 'blabla@gmail.com'\n",
    "    faux_objet_email4['objet'] = 'blablabla tong'\n",
    "    boiteB.append(faux_objet_email4)\n",
    "\n",
    "    faux_objet_email5 = {}\n",
    "    faux_objet_email5['emetteur'] = 'david@gmail.com'\n",
    "    faux_objet_email5['destinataire'] = 'blabla@gmail.com'\n",
    "    faux_objet_email5['objet'] = 'telephone'\n",
    "    boiteB.append(faux_objet_email5)\n",
    "\n",
    "    email_class.learn({'boite A': boiteA, 'boiteB': boiteB})\n",
    "    assert email_class.classify(faux_objet_email) == 'boite A'\n",
    "\n"
   ]
  },
  {
   "cell_type": "code",
   "execution_count": 36,
   "metadata": {},
   "outputs": [
    {
     "ename": "AssertionError",
     "evalue": "",
     "output_type": "error",
     "traceback": [
      "\u001b[0;31m---------------------------------------------------------------------------\u001b[0m",
      "\u001b[0;31mAssertionError\u001b[0m                            Traceback (most recent call last)",
      "\u001b[0;32m<ipython-input-36-9636240263d0>\u001b[0m in \u001b[0;36m<module>\u001b[0;34m\u001b[0m\n\u001b[0;32m----> 1\u001b[0;31m \u001b[0mtest_classify\u001b[0m\u001b[0;34m(\u001b[0m\u001b[0;34m)\u001b[0m\u001b[0;34m\u001b[0m\u001b[0;34m\u001b[0m\u001b[0m\n\u001b[0m",
      "\u001b[0;32m<ipython-input-35-df99ed30527d>\u001b[0m in \u001b[0;36mtest_classify\u001b[0;34m()\u001b[0m\n\u001b[1;32m     49\u001b[0m \u001b[0;34m\u001b[0m\u001b[0m\n\u001b[1;32m     50\u001b[0m     \u001b[0memail_class\u001b[0m\u001b[0;34m.\u001b[0m\u001b[0mlearn\u001b[0m\u001b[0;34m(\u001b[0m\u001b[0;34m{\u001b[0m\u001b[0;34m'boite A'\u001b[0m\u001b[0;34m:\u001b[0m \u001b[0mboiteA\u001b[0m\u001b[0;34m,\u001b[0m \u001b[0;34m'boiteB'\u001b[0m\u001b[0;34m:\u001b[0m \u001b[0mboiteB\u001b[0m\u001b[0;34m}\u001b[0m\u001b[0;34m)\u001b[0m\u001b[0;34m\u001b[0m\u001b[0;34m\u001b[0m\u001b[0m\n\u001b[0;32m---> 51\u001b[0;31m     \u001b[0;32massert\u001b[0m \u001b[0memail_class\u001b[0m\u001b[0;34m.\u001b[0m\u001b[0mclassify\u001b[0m\u001b[0;34m(\u001b[0m\u001b[0mfaux_objet_email\u001b[0m\u001b[0;34m)\u001b[0m \u001b[0;34m==\u001b[0m \u001b[0;34m'boite A'\u001b[0m\u001b[0;34m\u001b[0m\u001b[0;34m\u001b[0m\u001b[0m\n\u001b[0m\u001b[1;32m     52\u001b[0m \u001b[0;34m\u001b[0m\u001b[0m\n",
      "\u001b[0;31mAssertionError\u001b[0m: "
     ]
    }
   ],
   "source": [
    "test_classify()"
   ]
  },
  {
   "cell_type": "code",
   "execution_count": null,
   "metadata": {},
   "outputs": [],
   "source": []
  }
 ],
 "metadata": {
  "kernelspec": {
   "display_name": "Python 3",
   "language": "python",
   "name": "python3"
  },
  "language_info": {
   "codemirror_mode": {
    "name": "ipython",
    "version": 3
   },
   "file_extension": ".py",
   "mimetype": "text/x-python",
   "name": "python",
   "nbconvert_exporter": "python",
   "pygments_lexer": "ipython3",
   "version": "3.7.7"
  }
 },
 "nbformat": 4,
 "nbformat_minor": 4
}
